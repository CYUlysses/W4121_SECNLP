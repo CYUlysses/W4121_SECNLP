{
 "cells": [
  {
   "cell_type": "code",
   "execution_count": null,
   "metadata": {
    "collapsed": true
   },
   "outputs": [],
   "source": [
    "import pandas as pd\n",
    "import urllib.request\n",
    "import codecs\n",
    "import os\n",
    "import re\n",
    "from bs4 import BeautifulSoup"
   ]
  },
  {
   "cell_type": "code",
   "execution_count": 3,
   "metadata": {},
   "outputs": [],
   "source": [
    "edgar = pd.read_csv('edgar.csv').values\n",
    "edgar_link = 'https://www.sec.gov/Archives/'"
   ]
  },
  {
   "cell_type": "code",
   "execution_count": 4,
   "metadata": {},
   "outputs": [],
   "source": [
    "def clean_html(saved_name, file_url):\n",
    "    with urllib.request.urlopen(file_url) as response:\n",
    "        html_file = response.read()\n",
    "    soup = BeautifulSoup(html_file, 'lxml')\n",
    "    for table in soup.find_all(\"table\"):\n",
    "        table.extract()\n",
    "    temp_file = codecs.open('data/' + saved_name + '.txt', 'w', 'utf-8')\n",
    "    temp_file.write(soup.get_text())\n",
    "    temp_file.close()\n",
    "    \n",
    "\n",
    "def nlp_extract(file_name):\n",
    "    key_start = '. MANAGEMENTS DISCUSSION AND ANALYSIS OF FINANCIAL CONDITION AND RESULTS OF OPERATIONS'.lower()\n",
    "    if file_name.split('-')[2] == '10K':\n",
    "        item = 7\n",
    "    else:\n",
    "        item = 2\n",
    "    key_end = ('Item ' + str(item + 1)).lower()\n",
    "    file_in = codecs.open('data/' + file_name, 'r', 'utf-8')\n",
    "    text_lines = file_in.readlines()\n",
    "    file_in.close()\n",
    "    file_out = codecs.open('data_nlp/' + file_name, 'w', 'utf-8')\n",
    "    write_str = ''\n",
    "    for line in text_lines:\n",
    "        temp_line = re.sub('[^a-z0-9 .,?!:-]+', '', line.rstrip().lower())\n",
    "        if temp_line == '' or 'Table of Contents' in temp_line or temp_line.isdigit():\n",
    "            continue\n",
    "        write_str += ' ' + temp_line\n",
    "    try:\n",
    "        start_index = write_str.index(key_start) + len(key_start)\n",
    "    except:\n",
    "        start_index = write_str.index(key_start[1:]) + len(key_start[1:])\n",
    "    write_str = write_str[start_index:]\n",
    "    try:\n",
    "        end_index = write_str.index(key_end)\n",
    "    except:\n",
    "        end_index = write_str.index(key_end[:-1])\n",
    "    file_out.write(write_str[:end_index])\n",
    "    file_out.close()"
   ]
  },
  {
   "cell_type": "code",
   "execution_count": 5,
   "metadata": {},
   "outputs": [],
   "source": [
    "for file_name in os.listdir('data'):\n",
    "    try:\n",
    "        nlp_extract(file_name)\n",
    "    except:\n",
    "        continue"
   ]
  },
  {
   "cell_type": "code",
   "execution_count": 56,
   "metadata": {},
   "outputs": [
    {
     "data": {
      "text/plain": [
       "''"
      ]
     },
     "execution_count": 56,
     "metadata": {},
     "output_type": "execute_result"
    }
   ],
   "source": [
    ""
   ]
  },
  {
   "cell_type": "code",
   "execution_count": 6,
   "metadata": {},
   "outputs": [],
   "source": [
    "file_data = []\n",
    "for file_name in os.listdir('data_nlp'):\n",
    "    temp_file_nlp = codecs.open('data_nlp/' + file_name, 'r', 'utf-8')\n",
    "    if len(temp_file_nlp.read()) > 10:\n",
    "        file_data.append(file_name)\n",
    "    temp_file_nlp.close()"
   ]
  },
  {
   "cell_type": "code",
   "execution_count": 7,
   "metadata": {},
   "outputs": [],
   "source": [
    "file_csv = pd.DataFrame(file_data, columns=['file_name'])\n",
    "file_csv.to_csv('valid_file.csv', index=True)"
   ]
  },
  {
   "cell_type": "code",
   "execution_count": 10,
   "metadata": {},
   "outputs": [],
   "source": [
    "for i in range(62412, len(edgar)):\n",
    "    temp_file_name = (edgar[i][6] + '-' + str(edgar[i][1])).replace('/', '')\n",
    "    temp_file_url = edgar_link + edgar[i][4]\n",
    "    if edgar[i][2] == '10-K':\n",
    "        clean_html(temp_file_name + '-10K', temp_file_url)\n",
    "    elif edgar[i][2] == '10-Q':\n",
    "        clean_html(temp_file_name + '-10Q', temp_file_url)"
   ]
  },
  {
   "cell_type": "code",
   "execution_count": null,
   "metadata": {},
   "outputs": [],
   "source": [
    ""
   ]
  }
 ],
 "metadata": {
  "kernelspec": {
   "display_name": "Python 2",
   "language": "python",
   "name": "python2"
  },
  "language_info": {
   "codemirror_mode": {
    "name": "ipython",
    "version": 2.0
   },
   "file_extension": ".py",
   "mimetype": "text/x-python",
   "name": "python",
   "nbconvert_exporter": "python",
   "pygments_lexer": "ipython2",
   "version": "2.7.6"
  }
 },
 "nbformat": 4,
 "nbformat_minor": 0
}